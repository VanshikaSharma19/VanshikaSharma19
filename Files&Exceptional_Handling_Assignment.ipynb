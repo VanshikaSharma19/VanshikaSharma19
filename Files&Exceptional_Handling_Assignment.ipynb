{
  "nbformat": 4,
  "nbformat_minor": 0,
  "metadata": {
    "colab": {
      "provenance": [],
      "authorship_tag": "ABX9TyNp+VY2UqqIu1iO7wymERHo",
      "include_colab_link": true
    },
    "kernelspec": {
      "name": "python3",
      "display_name": "Python 3"
    },
    "language_info": {
      "name": "python"
    }
  },
  "cells": [
    {
      "cell_type": "markdown",
      "metadata": {
        "id": "view-in-github",
        "colab_type": "text"
      },
      "source": [
        "<a href=\"https://colab.research.google.com/github/VanshikaSharma19/VanshikaSharma19/blob/main/Files%26Exceptional_Handling_Assignment.ipynb\" target=\"_parent\"><img src=\"https://colab.research.google.com/assets/colab-badge.svg\" alt=\"Open In Colab\"/></a>"
      ]
    },
    {
      "cell_type": "code",
      "execution_count": null,
      "metadata": {
        "id": "HEqOrKK4ahlK"
      },
      "outputs": [],
      "source": [
        "#1. Discuss the scenarios where multithreading is preferable to multiprocessing and scenarios where multiprocessing is a better choice."
      ]
    },
    {
      "cell_type": "code",
      "source": [
        "'''\n",
        "Multithreading vs. Multiprocessing\n",
        "Both multithreading and multiprocessing are ways to achieve concurrency in Python, but they have different strengths and weaknesses, making them suitable for different scenarios.\n",
        "\n",
        "Multithreading\n",
        "process runs concurrently on multiple threads in a processor>>multithreading\n",
        "Preferable when:\n",
        "\n",
        "I/O-bound tasks: Multithreading shines when dealing with tasks that involve waiting for external resources, such as network requests or disk operations.\n",
        "While one thread is waiting, other threads can utilize the CPU, improving overall efficiency.\n",
        "Sharing data between tasks: Threads within the same process share the same memory space, making it easy and efficient to share data between them.\n",
        "This can be beneficial for tasks that need to collaborate and exchange information.\n",
        "GUI programming: Many GUI frameworks require the main thread to handle user interactions.\n",
        "Multithreading allows you to perform background tasks, like loading data or processing images, without freezing the UI.\n",
        "\n",
        "Multiprocessing\n",
        "process runs parallely on multiple processors>> multiprocessing\n",
        "Preferable when:\n",
        "\n",
        "CPU-bound tasks: Multiprocessing is the better choice when dealing with tasks that require heavy CPU computation, such as scientific calculations or image processing.\n",
        "By utilizing multiple CPU cores, multiprocessing can significantly reduce execution time.\n",
        "Avoiding GIL limitations: Python's Global Interpreter Lock (GIL) prevents multiple threads from executing Python bytecodes simultaneously.\n",
        "This limitation can hinder performance in CPU-bound tasks. Multiprocessing bypasses the GIL by using separate processes, allowing true parallelism.\n",
        "Improving robustness: Since processes run in separate memory spaces, a crash in one process is less likely to affect others.\n",
        "This makes multiprocessing more robust and fault-tolerant than multithreading.\n",
        "In summary:\n",
        "\n",
        "Choose multithreading for I/O-bound tasks, shared data, and GUI programming.\n",
        "Choose multiprocessing for CPU-bound tasks, bypassing the GIL, and improving robustness.\n",
        "'''"
      ],
      "metadata": {
        "id": "zsh64rF4aQJY"
      },
      "execution_count": null,
      "outputs": []
    },
    {
      "cell_type": "code",
      "source": [
        "#Multiprocessing\n",
        "import concurrent.futures\n",
        "import multiprocessing\n",
        "import time\n",
        "start = time.perf_counter()\n",
        "\n",
        "def test_func(i):\n",
        "    print(\"do something\")\n",
        "    print(\"sleep for 1 sec\")\n",
        "    time.sleep(1)\n",
        "    print(\"done with sleeping\")\n",
        "\n",
        "with concurrent.futures.ProcessPoolExecutor() as executor:\n",
        "    executor.map(test_func, range(10))\n",
        "\n",
        "\n",
        "\n",
        "end = time.perf_counter()\n",
        "\n",
        "print(f\"The program finished in {round(end-start, 2)} seconds\")"
      ],
      "metadata": {
        "colab": {
          "base_uri": "https://localhost:8080/"
        },
        "id": "ROoYgQwtcCXF",
        "outputId": "90d8d9fe-e273-4d39-b0eb-610caf465a7c"
      },
      "execution_count": null,
      "outputs": [
        {
          "output_type": "stream",
          "name": "stdout",
          "text": [
            "do somethingdo something\n",
            "\n",
            "sleep for 1 secsleep for 1 sec\n",
            "\n",
            "done with sleeping\n",
            "do somethingdone with sleeping\n",
            "sleep for 1 sec\n",
            "\n",
            "do something\n",
            "sleep for 1 sec\n",
            "done with sleeping\n",
            "do something\n",
            "sleep for 1 sec\n",
            "done with sleeping\n",
            "do something\n",
            "sleep for 1 sec\n",
            "done with sleeping\n",
            "do something\n",
            "sleep for 1 sec\n",
            "done with sleeping\n",
            "do something\n",
            "sleep for 1 sec\n",
            "done with sleeping\n",
            "do something\n",
            "sleep for 1 sec\n",
            "done with sleeping\n",
            "do something\n",
            "sleep for 1 sec\n",
            "done with sleeping\n",
            "done with sleeping\n",
            "The program finished in 5.17 seconds\n"
          ]
        }
      ]
    },
    {
      "cell_type": "code",
      "source": [
        "#Multithreading\n",
        "import threading\n",
        "start = time.perf_counter()\n",
        "shared_counter = 0\n",
        "counter_lock = threading.Lock() #locking the counter for a specific thread\n",
        "\n",
        "def increment_shared_counter(x):\n",
        "    global shared_counter #that can be accessed by all the threads\n",
        "    with counter_lock:\n",
        "        shared_counter = shared_counter+1\n",
        "        print(f\"Thread {x}: incremented shared counter to {shared_counter}\")\n",
        "        time.sleep(1)\n",
        "\n",
        "with concurrent.futures.ThreadPoolExecutor() as executor:\n",
        "    thread_args = [1, 2, 3, 4, 5, 6]\n",
        "    executor.map(increment_shared_counter, thread_args)\n",
        "\n",
        "end = time.perf_counter()\n",
        "print(f\"The program finished in {round(end-start, 2)} seconds.\")\n"
      ],
      "metadata": {
        "colab": {
          "base_uri": "https://localhost:8080/"
        },
        "id": "WC4IhjHpcChp",
        "outputId": "ec81ca20-c13e-4fef-b97d-6b3669aaaf6f"
      },
      "execution_count": null,
      "outputs": [
        {
          "output_type": "stream",
          "name": "stdout",
          "text": [
            "Thread 1: incremented shared counter to 1\n",
            "Thread 2: incremented shared counter to 2\n",
            "Thread 3: incremented shared counter to 3\n",
            "Thread 4: incremented shared counter to 4\n",
            "Thread 5: incremented shared counter to 5\n",
            "Thread 6: incremented shared counter to 6\n",
            "The program finished in 6.01 seconds.\n"
          ]
        }
      ]
    },
    {
      "cell_type": "code",
      "source": [
        "#2. Describe what a process pool is and how it helps in managing multiple processes efficiently."
      ],
      "metadata": {
        "id": "Jf101auqa_Ka"
      },
      "execution_count": null,
      "outputs": []
    },
    {
      "cell_type": "code",
      "source": [
        "'''\n",
        "A process pool is a programming pattern for automatically managing a pool of worker processes.\n",
        "In Python's multiprocessing module, a process pool is an abstraction provided by the multiprocessing.Pool class.\n",
        "It represents a collection of worker processes that are ready to execute tasks concurrently.\n",
        "\n",
        "1. Automatic Process Management: Creating and managing processes can be cumbersome. A process pool handles this automatically.\n",
        "You specify the number of worker processes you want, and the pool takes care of creating and managing them. This reduces the overhead of manually managing processes.\n",
        "\n",
        "2. Task Distribution: The pool efficiently distributes tasks to available worker processes. It uses a queue to hold pending tasks, and as workers become free, they pick up tasks from\n",
        "the queue. This ensures that all processes are utilized effectively.\n",
        "\n",
        "3. Reusability: Instead of creating new processes for each task, the pool reuses existing worker processes, saving time and resources.\n",
        "Workers remain alive and ready for new tasks, reducing the overhead of repeatedly creating and destroying processes.\n",
        "\n",
        "4. Simplified Parallelism: Process pools provide a higher-level interface for achieving parallelism. You don't need to deal with the complexities of inter-process communication or\n",
        "synchronization directly. The pool abstracts these details, making it easier to parallelize your code.\n",
        "'''"
      ],
      "metadata": {
        "id": "ipTZTymq5FGG"
      },
      "execution_count": null,
      "outputs": []
    },
    {
      "cell_type": "code",
      "source": [
        "#using concurrent.futures process pool\n",
        "import concurrent.futures\n",
        "import time\n",
        "start = time.perf_counter()\n",
        "\n",
        "def test_func(i):\n",
        "    print(\"Hi it's ME\")\n",
        "    print(\"I am Studying\")\n",
        "    time.sleep(2)\n",
        "    print(\"Currently working on my python code\")\n",
        "\n",
        "with concurrent.futures.ProcessPoolExecutor() as executor:\n",
        "    executor.map(test_func, range(10))\n",
        "\n",
        "\n",
        "\n",
        "end = time.perf_counter()\n",
        "\n",
        "print(f\"The program finished in {round(end-start, 2)} seconds\")"
      ],
      "metadata": {
        "colab": {
          "base_uri": "https://localhost:8080/"
        },
        "id": "1VN-383D6Exp",
        "outputId": "3a5e9fc5-435e-48f6-b50a-e204cff42e0e"
      },
      "execution_count": null,
      "outputs": [
        {
          "output_type": "stream",
          "name": "stdout",
          "text": [
            "Hi it's ME\n",
            "Hi it's MEI am Studying\n",
            "I am Studying\n",
            "\n",
            "Currently working on my python code\n",
            "Currently working on my python codeHi it's ME\n",
            "\n",
            "Hi it's MEI am Studying\n",
            "\n",
            "I am Studying\n",
            "Currently working on my python code\n",
            "Hi it's ME\n",
            "I am StudyingCurrently working on my python code\n",
            "\n",
            "Hi it's ME\n",
            "I am Studying\n",
            "Currently working on my python code\n",
            "Hi it's ME\n",
            "I am Studying\n",
            "Currently working on my python code\n",
            "Hi it's ME\n",
            "I am Studying\n",
            "Currently working on my python code\n",
            "Hi it's ME\n",
            "I am Studying\n",
            "Currently working on my python code\n",
            "Hi it's ME\n",
            "I am Studying\n",
            "Currently working on my python code\n",
            "Currently working on my python code\n",
            "The program finished in 10.17 seconds\n"
          ]
        }
      ]
    },
    {
      "cell_type": "code",
      "source": [
        "#3. Explain what multiprocessing is and why it is used in Python programs."
      ],
      "metadata": {
        "id": "uxJYL6uebEz5"
      },
      "execution_count": null,
      "outputs": []
    },
    {
      "cell_type": "code",
      "source": [
        "'''\n",
        "Multiprocessing is a package that supports spawning processes using an API similar to the threading module.\n",
        "Each process has its own memory space and runs independently, utilizing different CPU cores.\n",
        "This is in contrast to multithreading, where multiple threads share the same memory space within a single process.\n",
        "\n",
        "WHY IT IS USED IN PYTHON PROGRAMS ??\n",
        "Multiprocessing in Python is a built-in package that allows the system to run multiple processes simultaneously.\n",
        "It will enable the breaking of applications into smaller threads that can run independently.\n",
        "\n",
        "Other reasons:\n",
        "1. Improved Performance: By running multiple processes concurrently, each on its own processor or core, multiprocessing can significantly reduce the time required for executing tasks.\n",
        "\n",
        "2. Avoiding GIL Limitations: Unlike threading, multiprocessing does not suffer from Python’s GIL issues because each process runs in its own Python interpreter.\n",
        "\n",
        "3. Better Resource Utilization: It allows for the effective utilization of multiple CPUs within a machine, which can lead to better handling of resource-intensive tasks.\n",
        "\n",
        "4. Enhanced Robustness: Since processes run in their own isolated memory spaces, a crash or error in one process is less likely to impact other processes.\n",
        "This isolation improves the robustness and fault tolerance of the program.\n",
        "\n",
        "5.Increased Responsiveness: By offloading time-consuming tasks to separate processes, the main program can remain responsive to user interactions or other events, avoiding freezes or\n",
        "delays.\n",
        "\n",
        "'''"
      ],
      "metadata": {
        "id": "cLQZGmHD7r2C"
      },
      "execution_count": null,
      "outputs": []
    },
    {
      "cell_type": "code",
      "source": [
        "#4. Write a Python program using multithreading where one thread adds numbers to a list, and another thread removes numbers from the list.\n",
        "#Implement a mechanism to avoid race conditions using threading.Lock."
      ],
      "metadata": {
        "id": "_xR7JoSfbHvU"
      },
      "execution_count": null,
      "outputs": []
    },
    {
      "cell_type": "code",
      "source": [
        "import threading\n",
        "import time\n",
        "import random\n",
        "\n",
        "number_list = []\n",
        "list_lock = threading.Lock()\n",
        "\n",
        "def add_numbers():\n",
        "    for i in range(10):\n",
        "        with list_lock:\n",
        "            number = random.randint(1, 100)\n",
        "            number_list.append(number)\n",
        "            print(f\"Added: {number}, List: {number_list}\")\n",
        "        time.sleep(0.1)\n",
        "\n",
        "def remove_numbers():\n",
        "    for i in range(10):\n",
        "        with list_lock:\n",
        "            if number_list:\n",
        "                removed_number = number_list.pop()\n",
        "                print(f\"Removed: {removed_number}, List: {number_list}\")\n",
        "            else:\n",
        "                print(\"List is empty, cannot remove.\")\n",
        "        time.sleep(0.2)\n",
        "\n",
        "add_thread = threading.Thread(target=add_numbers)\n",
        "remove_thread = threading.Thread(target=remove_numbers)\n",
        "\n",
        "add_thread.start()\n",
        "remove_thread.start()\n",
        "\n",
        "add_thread.join()\n",
        "remove_thread.join()\n",
        "\n",
        "print(\"Program finished.\")"
      ],
      "metadata": {
        "id": "LFcdKKfBFL0O",
        "colab": {
          "base_uri": "https://localhost:8080/"
        },
        "outputId": "4e03a8f2-c4b0-4251-f386-c957ce1adb1d"
      },
      "execution_count": 1,
      "outputs": [
        {
          "output_type": "stream",
          "name": "stdout",
          "text": [
            "Added: 27, List: [27]\n",
            "Removed: 27, List: []\n",
            "Added: 9, List: [9]\n",
            "Added: 59, List: [9, 59]\n",
            "Removed: 59, List: [9]\n",
            "Added: 78, List: [9, 78]\n",
            "Added: 70, List: [9, 78, 70]\n",
            "Removed: 70, List: [9, 78]\n",
            "Added: 19, List: [9, 78, 19]\n",
            "Added: 77, List: [9, 78, 19, 77]\n",
            "Removed: 77, List: [9, 78, 19]\n",
            "Added: 77, List: [9, 78, 19, 77]\n",
            "Added: 59, List: [9, 78, 19, 77, 59]\n",
            "Removed: 59, List: [9, 78, 19, 77]\n",
            "Added: 81, List: [9, 78, 19, 77, 81]\n",
            "Removed: 81, List: [9, 78, 19, 77]\n",
            "Removed: 77, List: [9, 78, 19]\n",
            "Removed: 19, List: [9, 78]\n",
            "Removed: 78, List: [9]\n",
            "Removed: 9, List: []\n",
            "Program finished.\n"
          ]
        }
      ]
    },
    {
      "cell_type": "code",
      "source": [
        "#5. Describe the methods and tools available in Python for safely sharing data between threads and processes."
      ],
      "metadata": {
        "id": "Nu2u0zP0bRYh"
      },
      "execution_count": null,
      "outputs": []
    },
    {
      "cell_type": "code",
      "source": [
        "'''\n",
        "METHODS AND TOOLS >> SAFELY SHARING DATA BETWEEN THREADS\n",
        "\n",
        "1. Threading.Lock: This is the most fundamental tool for thread safety in Python.\n",
        "It allows only one thread to hold the lock at a time, ensuring exclusive access to shared resources.\n",
        "Using a 'with' statement makes it easier to acquire and release the lock automatically.\n",
        "\n",
        "2. queue.Queue: This class provides a thread-safe way to exchange data between threads.\n",
        "Threads can put items into the queue and other threads can get items from it.\n",
        "This avoids race conditions when multiple threads are trying to access the same data.\n",
        "\n",
        "3. threading.RLock (Reentrant Lock): A reentrant lock can be acquired multiple times by the same thread without blocking.\n",
        "This is useful in situations where a thread needs to call a function that also acquires the same lock.\n",
        "\n",
        "METHODS AND TOOLS >> SAFELY SHARING DATA BETWEEN PROCESSES\n",
        "\n",
        "1. multiprocessing.Queue: Similar to queue.Queue, but designed for inter-process communication. It allows processes to safely exchange data without the risk of data corruption.\n",
        "\n",
        "2. multiprocessing.Pipe: Creates a pipe for two-way communication between processes. It's useful for sending and receiving messages between processes.\n",
        "\n",
        "3. multiprocessing.Manager: Provides a way to create shared objects that can be accessed by multiple processes.\n",
        "These objects can be dictionaries, lists, or other types supported by the manager.\n",
        "\n",
        "'''"
      ],
      "metadata": {
        "id": "w7y6oUPhFMQR"
      },
      "execution_count": null,
      "outputs": []
    },
    {
      "cell_type": "code",
      "source": [
        "#6. Discuss why it’s crucial to handle exceptions in concurrent programs and the techniques available for doing so."
      ],
      "metadata": {
        "id": "6d8usCt3bVBz"
      },
      "execution_count": null,
      "outputs": []
    },
    {
      "cell_type": "code",
      "source": [
        "'''\n",
        "In concurrent programs, multiple threads or processes execute simultaneously, often sharing resources and interacting with each other.\n",
        "Exception handling is important in concurrent programs to prevent abnormal termination and to identify design flaws.\n",
        "\n",
        "OTHER REASONS:\n",
        "1. Preventing Program Crashes: An unhandled exception in a single thread or process can bring down the entire application.\n",
        "In concurrent environments, this risk is amplified due to the interactions between different execution flows.\n",
        "Proper exception handling ensures that errors are contained and do not propagate, preventing catastrophic failures.\n",
        "\n",
        "2. Maintaining Data Integrity: Concurrent access to shared resources can lead to data corruption if exceptions are not handled correctly.\n",
        "If an exception occurs during a critical operation, such as writing to a shared data structure, it might leave the data in an inconsistent state.\n",
        "Exception handling mechanisms help ensure data consistency and prevent corruption.\n",
        "\n",
        "3. Resource Management: Concurrent programs often utilize shared resources like files, network connections, or locks.\n",
        "If an exception occurs, these resources might not be released properly, leading to resource leaks and potential deadlocks.\n",
        "Exception handling provides a way to ensure resources are released gracefully, even in the event of an error.\n",
        "\n",
        "TECHNIQUES FOR EXCEPTION HANDLING\n",
        "\n",
        "1. Try-Except Blocks within task Function: The most basic approach is to use try-except blocks inside the functions that are executed by your threads or processes.\n",
        "   This allows you to handle exceptions specific to a task.\n",
        "#Isolation: Errors are handled within the task's scope, preventing them from affecting other tasks.\n",
        "#Flexibility: You can tailor error handling to the specific type of exception and task logic.\n",
        "\n",
        "2. Error Handling with 'concurrent.futures' : concurrent.futures provides tools for error handling:\n",
        "    1. future.result(): This method will raise any exception that occurred in the task. You can wrap it in a try-except block to handle it. The example above demonstrates this.\n",
        "    2. future.exception(): This method returns the exception object if one occurred, otherwise None. You can use this to check for errors without raising them immediately.\n",
        "#Centralized Error Handling: You can collect results and handle errors in the main thread after tasks are completed.\n",
        "#Exception Propagation: Exceptions from worker threads/processes are propagated to the main thread, making them visible.\n",
        "\n",
        "3. Custom Exception Classes:\n",
        " You can create exceptions that are meaningful within your application's context.\n",
        " Allows you to catch specific types of errors related to your tasks.\n",
        "\n",
        "4. Logging:\n",
        "In real-world scenarios, logging exceptions is vital. Logs provide a record of errors for later analysis.\n",
        "You can track the frequency and types of errors occurring in your concurrent code.\n",
        "\n",
        "'''"
      ],
      "metadata": {
        "id": "DT3KPDQ-FMre"
      },
      "execution_count": null,
      "outputs": []
    },
    {
      "cell_type": "code",
      "source": [
        "#7. Create a program that uses a thread pool to calculate the factorial of numbers from 1 to 10 concurrently.\n",
        "#Use concurrent.futures.ThreadPoolExecutor to manage the threads."
      ],
      "metadata": {
        "id": "oGtp8EUKbY9n"
      },
      "execution_count": null,
      "outputs": []
    },
    {
      "cell_type": "code",
      "source": [
        "import concurrent.futures\n",
        "import math\n",
        "\n",
        "def factorial(n):\n",
        "    \"\"\"Calculates the factorial of a number.\"\"\"\n",
        "    return math.factorial(n)\n",
        "\n",
        "def main():\n",
        "    \"\"\"Main function to calculate factorials concurrently.\"\"\"\n",
        "    numbers = range(1, 11)\n",
        "\n",
        "    with concurrent.futures.ThreadPoolExecutor() as executor:\n",
        "        results = executor.map(factorial, numbers)\n",
        "\n",
        "    for num, fact in zip(numbers, results):\n",
        "        print(f\"The factorial of {num} is {fact}\")\n",
        "\n",
        "if __name__ == \"__main__\":\n",
        "    main()"
      ],
      "metadata": {
        "id": "i4UzjAnJFNXT",
        "colab": {
          "base_uri": "https://localhost:8080/"
        },
        "outputId": "f56ad118-f500-4261-e546-a29f73799faa"
      },
      "execution_count": 2,
      "outputs": [
        {
          "output_type": "stream",
          "name": "stdout",
          "text": [
            "The factorial of 1 is 1\n",
            "The factorial of 2 is 2\n",
            "The factorial of 3 is 6\n",
            "The factorial of 4 is 24\n",
            "The factorial of 5 is 120\n",
            "The factorial of 6 is 720\n",
            "The factorial of 7 is 5040\n",
            "The factorial of 8 is 40320\n",
            "The factorial of 9 is 362880\n",
            "The factorial of 10 is 3628800\n"
          ]
        }
      ]
    },
    {
      "cell_type": "code",
      "source": [
        "#8. Create a Python program that uses multiprocessing.Pool to compute the square of numbers from 1 to 10 in parallel.\n",
        "#Measure the time taken to perform this computation using a pool of different sizes (e.g., 2, 4, 8 processes)."
      ],
      "metadata": {
        "id": "xFfL9-tObbiY"
      },
      "execution_count": null,
      "outputs": []
    },
    {
      "cell_type": "code",
      "source": [
        "import multiprocessing\n",
        "import time\n",
        "\n",
        "def square(n):\n",
        "    \"\"\"Calculates the square of a number.\"\"\"\n",
        "    return n * n\n",
        "\n",
        "def main():\n",
        "    \"\"\"Main function to compute squares in parallel.\"\"\"\n",
        "    numbers = range(1, 11)\n",
        "    pool_sizes = [2, 4, 8]\n",
        "\n",
        "    for pool_size in pool_sizes:\n",
        "        start_time = time.time()\n",
        "\n",
        "        with multiprocessing.Pool(processes=pool_size) as pool:\n",
        "            results = pool.map(square, numbers)\n",
        "\n",
        "        end_time = time.time()\n",
        "        execution_time = end_time - start_time\n",
        "\n",
        "        print(f\"Pool size: {pool_size}, Execution time: {execution_time:.4f} seconds\")\n",
        "\n",
        "if __name__ == \"__main__\":\n",
        "    main()"
      ],
      "metadata": {
        "id": "uxOowybMFN-B",
        "colab": {
          "base_uri": "https://localhost:8080/"
        },
        "outputId": "9a4883c7-1416-439e-eaea-c6f2515bfd05"
      },
      "execution_count": 3,
      "outputs": [
        {
          "output_type": "stream",
          "name": "stdout",
          "text": [
            "Pool size: 2, Execution time: 0.1810 seconds\n",
            "Pool size: 4, Execution time: 0.1393 seconds\n",
            "Pool size: 8, Execution time: 0.1358 seconds\n"
          ]
        }
      ]
    }
  ]
}